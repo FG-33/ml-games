{
 "cells": [
  {
   "cell_type": "markdown",
   "metadata": {},
   "source": [
    "## Play the game"
   ]
  },
  {
   "cell_type": "markdown",
   "metadata": {},
   "source": [
    "The game class requires a single non-optional parameter - the player. The player's task is to provide the next move for the current game state. "
   ]
  },
  {
   "cell_type": "code",
   "execution_count": 1,
   "metadata": {},
   "outputs": [],
   "source": [
    "import keyboard\n",
    "from snake import Snake\n",
    "\n",
    "class HumanPlayer:\n",
    "    \"\"\" A Player class that can be used to play the Snake game.\n",
    "    \"\"\"\n",
    "    \n",
    "    def __init__(self):\n",
    "        self.last_key = -1\n",
    "        self.keys = [\"a\", \"w\", \"d\", \"s\"]\n",
    "        self.key_to_dir = {\"a\": 1, \"w\": 2, \"d\": 3, \"s\": 4}\n",
    "        \n",
    "    def get_next_move(self, game):\n",
    "        \"\"\" Determines the next move of the snake according to player input via keyboard.\n",
    "        \"\"\"\n",
    "\n",
    "        for i in range(len(self.keys)):\n",
    "            if keyboard.is_pressed(self.keys[i]):\n",
    "                self.last_key = self.key_to_dir[self.keys[i]]\n",
    "\n",
    "        return self.last_key"
   ]
  },
  {
   "cell_type": "code",
   "execution_count": 3,
   "metadata": {},
   "outputs": [
    {
     "name": "stdout",
     "output_type": "stream",
     "text": [
      "|------------------|\n",
      "|  9              5|\n",
      "|  9               |\n",
      "|  9               |\n",
      "|                  |\n",
      "|                  |\n",
      "|                  |\n",
      "|                  |\n",
      "|                  |\n",
      "|------------------|\n",
      "\n",
      "You got 2 points!\n",
      "3\n"
     ]
    }
   ],
   "source": [
    "snake = Snake(HumanPlayer())\n",
    "snake.start()"
   ]
  },
  {
   "cell_type": "code",
   "execution_count": null,
   "metadata": {},
   "outputs": [],
   "source": []
  }
 ],
 "metadata": {
  "kernelspec": {
   "display_name": "Python 3",
   "language": "python",
   "name": "python3"
  },
  "language_info": {
   "codemirror_mode": {
    "name": "ipython",
    "version": 3
   },
   "file_extension": ".py",
   "mimetype": "text/x-python",
   "name": "python",
   "nbconvert_exporter": "python",
   "pygments_lexer": "ipython3",
   "version": "3.7.3"
  }
 },
 "nbformat": 4,
 "nbformat_minor": 4
}
