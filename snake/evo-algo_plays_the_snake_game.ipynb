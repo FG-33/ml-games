{
 "cells": [
  {
   "cell_type": "code",
   "execution_count": 1,
   "metadata": {},
   "outputs": [],
   "source": [
    "### imports\n",
    "###########\n",
    "\n",
    "import random\n",
    "import torch\n",
    "import numpy as np\n",
    "from snake import Snake "
   ]
  },
  {
   "cell_type": "code",
   "execution_count": 2,
   "metadata": {},
   "outputs": [],
   "source": [
    "### bot/AI classes\n",
    "##################\n",
    "\n",
    "class RandomBot:\n",
    "        \n",
    "    def get_next_move(self, game):\n",
    "        return int(random.random() * 4) + 1\n",
    "\n",
    "class SnakeAI:\n",
    "    \n",
    "    def __init__(self, model):\n",
    "        self.model = model\n",
    "        \n",
    "    def get_next_move(self, game):\n",
    "        x = self._create_model_input(game)\n",
    "        next_move = self._process_model_output(model(x))\n",
    "        return next_move\n",
    "    \n",
    "    def _create_model_input(self, game):\n",
    "        return torch.randn(1, 4)\n",
    "    \n",
    "    def _process_model_output(self, output):\n",
    "        output = output.detach().numpy()\n",
    "        return np.argmax(output, axis=1)[0] + 1\n",
    "    \n",
    "def init_model():\n",
    "    model = torch.nn.Sequential(\n",
    "        torch.nn.Linear(4, 10),\n",
    "        torch.nn.ReLU(),\n",
    "        torch.nn.Linear(10, 4),\n",
    "    ) \n",
    "    \n",
    "    return model"
   ]
  },
  {
   "cell_type": "code",
   "execution_count": 3,
   "metadata": {},
   "outputs": [
    {
     "name": "stdout",
     "output_type": "stream",
     "text": [
      "Points: 0 (11/200 steps)\n",
      "|------------------|\n",
      "|                  |\n",
      "|                  |\n",
      "|                  |\n",
      "|                  |\n",
      "|    5            9|\n",
      "|                  |\n",
      "|                  |\n",
      "|                  |\n",
      "|------------------|\n",
      "\n",
      "You got 0 points!\n"
     ]
    },
    {
     "ename": "KeyboardInterrupt",
     "evalue": "",
     "output_type": "error",
     "traceback": [
      "\u001b[1;31m---------------------------------------------------------------------------\u001b[0m",
      "\u001b[1;31mKeyboardInterrupt\u001b[0m                         Traceback (most recent call last)",
      "\u001b[1;32m<ipython-input-3-9518410a4c65>\u001b[0m in \u001b[0;36m<module>\u001b[1;34m\u001b[0m\n\u001b[0;32m     21\u001b[0m             \u001b[1;31m# play\u001b[0m\u001b[1;33m\u001b[0m\u001b[1;33m\u001b[0m\u001b[1;33m\u001b[0m\u001b[0m\n\u001b[0;32m     22\u001b[0m             \u001b[0msnake\u001b[0m \u001b[1;33m=\u001b[0m \u001b[0mSnake\u001b[0m\u001b[1;33m(\u001b[0m\u001b[0mSnakeAI\u001b[0m\u001b[1;33m(\u001b[0m\u001b[0mmodel\u001b[0m\u001b[1;33m)\u001b[0m\u001b[1;33m,\u001b[0m \u001b[0mhuman\u001b[0m\u001b[1;33m=\u001b[0m\u001b[1;32mFalse\u001b[0m\u001b[1;33m)\u001b[0m\u001b[1;33m\u001b[0m\u001b[1;33m\u001b[0m\u001b[0m\n\u001b[1;32m---> 23\u001b[1;33m             \u001b[0msnake\u001b[0m\u001b[1;33m.\u001b[0m\u001b[0mstart\u001b[0m\u001b[1;33m(\u001b[0m\u001b[1;33m)\u001b[0m\u001b[1;33m\u001b[0m\u001b[1;33m\u001b[0m\u001b[0m\n\u001b[0m\u001b[0;32m     24\u001b[0m             \u001b[1;31m# fitness += ...\u001b[0m\u001b[1;33m\u001b[0m\u001b[1;33m\u001b[0m\u001b[1;33m\u001b[0m\u001b[0m\n\u001b[0;32m     25\u001b[0m \u001b[1;33m\u001b[0m\u001b[0m\n",
      "\u001b[1;32m~\\programming-projects\\ml-games\\snake\\snake.py\u001b[0m in \u001b[0;36mstart\u001b[1;34m(self)\u001b[0m\n\u001b[0;32m     66\u001b[0m \u001b[1;33m\u001b[0m\u001b[0m\n\u001b[0;32m     67\u001b[0m             \u001b[1;32mif\u001b[0m \u001b[0mself\u001b[0m\u001b[1;33m.\u001b[0m\u001b[0mverbose\u001b[0m\u001b[1;33m:\u001b[0m\u001b[1;33m\u001b[0m\u001b[1;33m\u001b[0m\u001b[0m\n\u001b[1;32m---> 68\u001b[1;33m                 \u001b[0mtime\u001b[0m\u001b[1;33m.\u001b[0m\u001b[0msleep\u001b[0m\u001b[1;33m(\u001b[0m\u001b[1;36m0.005\u001b[0m\u001b[1;33m)\u001b[0m\u001b[1;33m\u001b[0m\u001b[1;33m\u001b[0m\u001b[0m\n\u001b[0m\u001b[0;32m     69\u001b[0m \u001b[1;33m\u001b[0m\u001b[0m\n\u001b[0;32m     70\u001b[0m         \u001b[0mself\u001b[0m\u001b[1;33m.\u001b[0m\u001b[0m_end_game\u001b[0m\u001b[1;33m(\u001b[0m\u001b[1;33m)\u001b[0m\u001b[1;33m\u001b[0m\u001b[1;33m\u001b[0m\u001b[0m\n",
      "\u001b[1;31mKeyboardInterrupt\u001b[0m: "
     ]
    }
   ],
   "source": [
    "### evolutionary algorithm\n",
    "##########################\n",
    "\n",
    "population = [] # initialize y random sets of parameters\n",
    "population_max = 5000 # max amount of sets that can be in population\n",
    "generations = 10 # how many generations to run \n",
    "mean_over = 100 # how many times a set gets to play before setting its fitness (mean fitness over x games)\n",
    "for t in range(generations):\n",
    "    \n",
    "    while len(population) < population_max:\n",
    "    \n",
    "        # pick two random sets of parameters and merge them\n",
    "\n",
    "        # apply mutation\n",
    "\n",
    "        # calculate fitness mean over x games\n",
    "        fitness = 0\n",
    "        for i in range(mean_over):\n",
    "            # initialize thing with newly created set of parameters\n",
    "            model = init_model()\n",
    "            # play\n",
    "            snake = Snake(SnakeAI(model), human=False)\n",
    "            snake.start()\n",
    "            # fitness += ...\n",
    "\n",
    "        # save set of parameters with fitness in population\n",
    "        \n",
    "    # set new population to only 10 best sets of parameters (measured by fitness)"
   ]
  }
 ],
 "metadata": {
  "kernelspec": {
   "display_name": "Python 3",
   "language": "python",
   "name": "python3"
  },
  "language_info": {
   "codemirror_mode": {
    "name": "ipython",
    "version": 3
   },
   "file_extension": ".py",
   "mimetype": "text/x-python",
   "name": "python",
   "nbconvert_exporter": "python",
   "pygments_lexer": "ipython3",
   "version": "3.7.3"
  }
 },
 "nbformat": 4,
 "nbformat_minor": 4
}
